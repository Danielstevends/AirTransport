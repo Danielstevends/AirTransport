{
  "nbformat": 4,
  "nbformat_minor": 0,
  "metadata": {
    "colab": {
      "provenance": [],
      "include_colab_link": true
    },
    "kernelspec": {
      "name": "python3",
      "display_name": "Python 3"
    },
    "language_info": {
      "name": "python"
    },
    "widgets": {
      "application/vnd.jupyter.widget-state+json": {
        "bde7faf57b6a447f9ae8b70191fe8ee3": {
          "model_module": "@jupyter-widgets/controls",
          "model_name": "HTMLModel",
          "model_module_version": "1.5.0",
          "state": {
            "_dom_classes": [],
            "_model_module": "@jupyter-widgets/controls",
            "_model_module_version": "1.5.0",
            "_model_name": "HTMLModel",
            "_view_count": null,
            "_view_module": "@jupyter-widgets/controls",
            "_view_module_version": "1.5.0",
            "_view_name": "HTMLView",
            "description": "",
            "description_tooltip": null,
            "layout": "IPY_MODEL_e8a02988b6014c98bcba08827e95b5e4",
            "placeholder": "​",
            "style": "IPY_MODEL_15bb76c126b14096a236c98e05a25506",
            "value": "<strong style=\"font-size: 16px;\">Finalize the Location of the Coordinates</strong>"
          }
        },
        "e8a02988b6014c98bcba08827e95b5e4": {
          "model_module": "@jupyter-widgets/base",
          "model_name": "LayoutModel",
          "model_module_version": "1.2.0",
          "state": {
            "_model_module": "@jupyter-widgets/base",
            "_model_module_version": "1.2.0",
            "_model_name": "LayoutModel",
            "_view_count": null,
            "_view_module": "@jupyter-widgets/base",
            "_view_module_version": "1.2.0",
            "_view_name": "LayoutView",
            "align_content": null,
            "align_items": null,
            "align_self": null,
            "border": null,
            "bottom": null,
            "display": null,
            "flex": null,
            "flex_flow": null,
            "grid_area": null,
            "grid_auto_columns": null,
            "grid_auto_flow": null,
            "grid_auto_rows": null,
            "grid_column": null,
            "grid_gap": null,
            "grid_row": null,
            "grid_template_areas": null,
            "grid_template_columns": null,
            "grid_template_rows": null,
            "height": null,
            "justify_content": null,
            "justify_items": null,
            "left": null,
            "margin": null,
            "max_height": null,
            "max_width": null,
            "min_height": null,
            "min_width": null,
            "object_fit": null,
            "object_position": null,
            "order": null,
            "overflow": null,
            "overflow_x": null,
            "overflow_y": null,
            "padding": null,
            "right": null,
            "top": null,
            "visibility": null,
            "width": null
          }
        },
        "15bb76c126b14096a236c98e05a25506": {
          "model_module": "@jupyter-widgets/controls",
          "model_name": "DescriptionStyleModel",
          "model_module_version": "1.5.0",
          "state": {
            "_model_module": "@jupyter-widgets/controls",
            "_model_module_version": "1.5.0",
            "_model_name": "DescriptionStyleModel",
            "_view_count": null,
            "_view_module": "@jupyter-widgets/base",
            "_view_module_version": "1.2.0",
            "_view_name": "StyleView",
            "description_width": ""
          }
        },
        "e69772a35d284e29a6efc785c4a74def": {
          "model_module": "@jupyter-widgets/controls",
          "model_name": "HTMLModel",
          "model_module_version": "1.5.0",
          "state": {
            "_dom_classes": [],
            "_model_module": "@jupyter-widgets/controls",
            "_model_module_version": "1.5.0",
            "_model_name": "HTMLModel",
            "_view_count": null,
            "_view_module": "@jupyter-widgets/controls",
            "_view_module_version": "1.5.0",
            "_view_name": "HTMLView",
            "description": "",
            "description_tooltip": null,
            "layout": "IPY_MODEL_89ed0ee494944f9680244f8f74dd418d",
            "placeholder": "​",
            "style": "IPY_MODEL_ceac33886f7741b4b2addea7a04ffc0e",
            "value": "Click \"Capture Coordinates\" to fixate"
          }
        },
        "89ed0ee494944f9680244f8f74dd418d": {
          "model_module": "@jupyter-widgets/base",
          "model_name": "LayoutModel",
          "model_module_version": "1.2.0",
          "state": {
            "_model_module": "@jupyter-widgets/base",
            "_model_module_version": "1.2.0",
            "_model_name": "LayoutModel",
            "_view_count": null,
            "_view_module": "@jupyter-widgets/base",
            "_view_module_version": "1.2.0",
            "_view_name": "LayoutView",
            "align_content": null,
            "align_items": null,
            "align_self": null,
            "border": null,
            "bottom": null,
            "display": null,
            "flex": null,
            "flex_flow": null,
            "grid_area": null,
            "grid_auto_columns": null,
            "grid_auto_flow": null,
            "grid_auto_rows": null,
            "grid_column": null,
            "grid_gap": null,
            "grid_row": null,
            "grid_template_areas": null,
            "grid_template_columns": null,
            "grid_template_rows": null,
            "height": null,
            "justify_content": null,
            "justify_items": null,
            "left": null,
            "margin": null,
            "max_height": null,
            "max_width": null,
            "min_height": null,
            "min_width": null,
            "object_fit": null,
            "object_position": null,
            "order": null,
            "overflow": null,
            "overflow_x": null,
            "overflow_y": null,
            "padding": null,
            "right": null,
            "top": null,
            "visibility": null,
            "width": null
          }
        },
        "ceac33886f7741b4b2addea7a04ffc0e": {
          "model_module": "@jupyter-widgets/controls",
          "model_name": "DescriptionStyleModel",
          "model_module_version": "1.5.0",
          "state": {
            "_model_module": "@jupyter-widgets/controls",
            "_model_module_version": "1.5.0",
            "_model_name": "DescriptionStyleModel",
            "_view_count": null,
            "_view_module": "@jupyter-widgets/base",
            "_view_module_version": "1.2.0",
            "_view_name": "StyleView",
            "description_width": ""
          }
        },
        "39bfa157724e494fadfd5110e562a8b2": {
          "model_module": "@jupyter-widgets/base",
          "model_name": "LayoutModel",
          "model_module_version": "1.2.0",
          "state": {
            "_model_module": "@jupyter-widgets/base",
            "_model_module_version": "1.2.0",
            "_model_name": "LayoutModel",
            "_view_count": null,
            "_view_module": "@jupyter-widgets/base",
            "_view_module_version": "1.2.0",
            "_view_name": "LayoutView",
            "align_content": null,
            "align_items": null,
            "align_self": null,
            "border": null,
            "bottom": null,
            "display": null,
            "flex": null,
            "flex_flow": null,
            "grid_area": null,
            "grid_auto_columns": null,
            "grid_auto_flow": null,
            "grid_auto_rows": null,
            "grid_column": null,
            "grid_gap": null,
            "grid_row": null,
            "grid_template_areas": null,
            "grid_template_columns": null,
            "grid_template_rows": null,
            "height": null,
            "justify_content": null,
            "justify_items": null,
            "left": null,
            "margin": null,
            "max_height": null,
            "max_width": null,
            "min_height": null,
            "min_width": null,
            "object_fit": null,
            "object_position": null,
            "order": null,
            "overflow": null,
            "overflow_x": null,
            "overflow_y": null,
            "padding": null,
            "right": null,
            "top": null,
            "visibility": null,
            "width": null
          }
        },
        "48dbe9b76fdd43f285a5a4f522c27bd9": {
          "model_module": "@jupyter-widgets/controls",
          "model_name": "DescriptionStyleModel",
          "model_module_version": "1.5.0",
          "state": {
            "_model_module": "@jupyter-widgets/controls",
            "_model_module_version": "1.5.0",
            "_model_name": "DescriptionStyleModel",
            "_view_count": null,
            "_view_module": "@jupyter-widgets/base",
            "_view_module_version": "1.2.0",
            "_view_name": "StyleView",
            "description_width": ""
          }
        },
        "92f304dfba434d59841cb122bd9604b8": {
          "model_module": "@jupyter-widgets/base",
          "model_name": "LayoutModel",
          "model_module_version": "1.2.0",
          "state": {
            "_model_module": "@jupyter-widgets/base",
            "_model_module_version": "1.2.0",
            "_model_name": "LayoutModel",
            "_view_count": null,
            "_view_module": "@jupyter-widgets/base",
            "_view_module_version": "1.2.0",
            "_view_name": "LayoutView",
            "align_content": null,
            "align_items": null,
            "align_self": null,
            "border": null,
            "bottom": null,
            "display": null,
            "flex": null,
            "flex_flow": null,
            "grid_area": null,
            "grid_auto_columns": null,
            "grid_auto_flow": null,
            "grid_auto_rows": null,
            "grid_column": null,
            "grid_gap": null,
            "grid_row": null,
            "grid_template_areas": null,
            "grid_template_columns": null,
            "grid_template_rows": null,
            "height": null,
            "justify_content": null,
            "justify_items": null,
            "left": null,
            "margin": null,
            "max_height": null,
            "max_width": null,
            "min_height": null,
            "min_width": null,
            "object_fit": null,
            "object_position": null,
            "order": null,
            "overflow": null,
            "overflow_x": null,
            "overflow_y": null,
            "padding": null,
            "right": null,
            "top": null,
            "visibility": null,
            "width": null
          }
        },
        "1e0054d3fc534d878f29c7c92395c82c": {
          "model_module": "@jupyter-widgets/controls",
          "model_name": "DescriptionStyleModel",
          "model_module_version": "1.5.0",
          "state": {
            "_model_module": "@jupyter-widgets/controls",
            "_model_module_version": "1.5.0",
            "_model_name": "DescriptionStyleModel",
            "_view_count": null,
            "_view_module": "@jupyter-widgets/base",
            "_view_module_version": "1.2.0",
            "_view_name": "StyleView",
            "description_width": ""
          }
        },
        "f37123f1bb3b4a37b9df267d54c35b20": {
          "model_module": "jupyter-leaflet",
          "model_name": "LeafletMapStyleModel",
          "model_module_version": "^0.18",
          "state": {
            "_model_module": "jupyter-leaflet",
            "_model_module_version": "^0.18",
            "_model_name": "LeafletMapStyleModel",
            "_view_count": null,
            "_view_module": "@jupyter-widgets/base",
            "_view_module_version": "1.2.0",
            "_view_name": "StyleView",
            "cursor": "grab"
          }
        },
        "5d6205c5c44848669c0701ff3b343673": {
          "model_module": "jupyter-leaflet",
          "model_name": "LeafletMapStyleModel",
          "model_module_version": "^0.18",
          "state": {
            "_model_module": "jupyter-leaflet",
            "_model_module_version": "^0.18",
            "_model_name": "LeafletMapStyleModel",
            "_view_count": null,
            "_view_module": "@jupyter-widgets/base",
            "_view_module_version": "1.2.0",
            "_view_name": "StyleView",
            "cursor": "move"
          }
        },
        "4e5a2567f93d41208229e9a54826b6db": {
          "model_module": "jupyter-leaflet",
          "model_name": "LeafletTileLayerModel",
          "model_module_version": "^0.18",
          "state": {
            "_model_module": "jupyter-leaflet",
            "_model_module_version": "^0.18",
            "_model_name": "LeafletTileLayerModel",
            "_view_count": null,
            "_view_module": "jupyter-leaflet",
            "_view_module_version": "^0.18",
            "_view_name": "LeafletTileLayerView",
            "attribution": "&copy; <a href=\"https://www.openstreetmap.org/copyright\">OpenStreetMap</a> contributors",
            "base": true,
            "bottom": true,
            "bounds": null,
            "detect_retina": false,
            "loading": false,
            "max_native_zoom": null,
            "max_zoom": 19,
            "min_native_zoom": null,
            "min_zoom": 1,
            "name": "OpenStreetMap.Mapnik",
            "no_wrap": false,
            "opacity": 1,
            "options": [
              "attribution",
              "bounds",
              "detect_retina",
              "max_native_zoom",
              "max_zoom",
              "min_native_zoom",
              "min_zoom",
              "no_wrap",
              "tile_size",
              "tms",
              "zoom_offset"
            ],
            "pane": "",
            "popup": null,
            "popup_max_height": null,
            "popup_max_width": 300,
            "popup_min_width": 50,
            "show_loading": false,
            "subitems": [],
            "tile_size": 256,
            "tms": false,
            "url": "https://tile.openstreetmap.org/{z}/{x}/{y}.png",
            "visible": true,
            "zoom_offset": 0
          }
        },
        "d138e85955da4567957b9e922bc07ed9": {
          "model_module": "@jupyter-widgets/base",
          "model_name": "LayoutModel",
          "model_module_version": "1.2.0",
          "state": {
            "_model_module": "@jupyter-widgets/base",
            "_model_module_version": "1.2.0",
            "_model_name": "LayoutModel",
            "_view_count": null,
            "_view_module": "@jupyter-widgets/base",
            "_view_module_version": "1.2.0",
            "_view_name": "LayoutView",
            "align_content": null,
            "align_items": null,
            "align_self": null,
            "border": null,
            "bottom": null,
            "display": null,
            "flex": null,
            "flex_flow": null,
            "grid_area": null,
            "grid_auto_columns": null,
            "grid_auto_flow": null,
            "grid_auto_rows": null,
            "grid_column": null,
            "grid_gap": null,
            "grid_row": null,
            "grid_template_areas": null,
            "grid_template_columns": null,
            "grid_template_rows": null,
            "height": null,
            "justify_content": null,
            "justify_items": null,
            "left": null,
            "margin": null,
            "max_height": null,
            "max_width": null,
            "min_height": null,
            "min_width": null,
            "object_fit": null,
            "object_position": null,
            "order": null,
            "overflow": null,
            "overflow_x": null,
            "overflow_y": null,
            "padding": null,
            "right": null,
            "top": null,
            "visibility": null,
            "width": null
          }
        },
        "63d4883f986a4006aa3855e57e599741": {
          "model_module": "jupyter-leaflet",
          "model_name": "LeafletMapStyleModel",
          "model_module_version": "^0.18",
          "state": {
            "_model_module": "jupyter-leaflet",
            "_model_module_version": "^0.18",
            "_model_name": "LeafletMapStyleModel",
            "_view_count": null,
            "_view_module": "@jupyter-widgets/base",
            "_view_module_version": "1.2.0",
            "_view_name": "StyleView",
            "cursor": "grab"
          }
        },
        "d57dfc8878d8435ab86d06a7616d89aa": {
          "model_module": "@jupyter-widgets/controls",
          "model_name": "TextModel",
          "model_module_version": "1.5.0",
          "state": {
            "_dom_classes": [],
            "_model_module": "@jupyter-widgets/controls",
            "_model_module_version": "1.5.0",
            "_model_name": "TextModel",
            "_view_count": null,
            "_view_module": "@jupyter-widgets/controls",
            "_view_module_version": "1.5.0",
            "_view_name": "TextView",
            "continuous_update": true,
            "description": "",
            "description_tooltip": null,
            "disabled": false,
            "layout": "IPY_MODEL_92f304dfba434d59841cb122bd9604b8",
            "placeholder": "​",
            "style": "IPY_MODEL_1e0054d3fc534d878f29c7c92395c82c",
            "value": "Point A"
          }
        },
        "5621d1c836814ca8ae3301c2843b251c": {
          "model_module": "jupyter-leaflet",
          "model_name": "LeafletPopupModel",
          "model_module_version": "^0.18",
          "state": {
            "_model_module": "jupyter-leaflet",
            "_model_module_version": "^0.18",
            "_model_name": "LeafletPopupModel",
            "_view_count": null,
            "_view_module": "jupyter-leaflet",
            "_view_module_version": "^0.18",
            "_view_name": "LeafletPopupView",
            "auto_close": false,
            "auto_pan": true,
            "auto_pan_padding": [
              5,
              5
            ],
            "auto_pan_padding_bottom_right": null,
            "auto_pan_padding_top_left": null,
            "base": false,
            "bottom": false,
            "child": "IPY_MODEL_d57dfc8878d8435ab86d06a7616d89aa",
            "close_button": false,
            "close_on_escape_key": true,
            "keep_in_view": false,
            "location": [
              -3.994521,
              -79.211542
            ],
            "max_height": null,
            "max_width": 300,
            "min_width": 50,
            "name": "",
            "options": [
              "auto_close",
              "auto_pan",
              "auto_pan_padding",
              "auto_pan_padding_bottom_right",
              "auto_pan_padding_top_left",
              "close_button",
              "close_on_escape_key",
              "keep_in_view",
              "max_height",
              "max_width",
              "min_width"
            ],
            "pane": "",
            "popup": null,
            "popup_max_height": null,
            "popup_max_width": 300,
            "popup_min_width": 50,
            "subitems": []
          }
        },
        "e56e2a00d7d34e43843f91db809d9d04": {
          "model_module": "jupyter-leaflet",
          "model_name": "LeafletZoomControlModel",
          "model_module_version": "^0.18",
          "state": {
            "_model_module": "jupyter-leaflet",
            "_model_module_version": "^0.18",
            "_model_name": "LeafletZoomControlModel",
            "_view_count": null,
            "_view_module": "jupyter-leaflet",
            "_view_module_version": "^0.18",
            "_view_name": "LeafletZoomControlView",
            "options": [
              "position",
              "zoom_in_text",
              "zoom_in_title",
              "zoom_out_text",
              "zoom_out_title"
            ],
            "position": "topleft",
            "zoom_in_text": "+",
            "zoom_in_title": "Zoom in",
            "zoom_out_text": "-",
            "zoom_out_title": "Zoom out"
          }
        },
        "879ae49fb6954fba836162d750f07bee": {
          "model_module": "jupyter-leaflet",
          "model_name": "LeafletAttributionControlModel",
          "model_module_version": "^0.18",
          "state": {
            "_model_module": "jupyter-leaflet",
            "_model_module_version": "^0.18",
            "_model_name": "LeafletAttributionControlModel",
            "_view_count": null,
            "_view_module": "jupyter-leaflet",
            "_view_module_version": "^0.18",
            "_view_name": "LeafletAttributionControlView",
            "options": [
              "position",
              "prefix"
            ],
            "position": "bottomright",
            "prefix": "ipyleaflet"
          }
        },
        "4eb00220f60c4df094acdf3f3a992d1f": {
          "model_module": "jupyter-leaflet",
          "model_name": "LeafletFullScreenControlModel",
          "model_module_version": "^0.18",
          "state": {
            "_model_module": "jupyter-leaflet",
            "_model_module_version": "^0.18",
            "_model_name": "LeafletFullScreenControlModel",
            "_view_count": null,
            "_view_module": "jupyter-leaflet",
            "_view_module_version": "^0.18",
            "_view_name": "LeafletFullScreenControlView",
            "options": [
              "position"
            ],
            "position": "topleft"
          }
        },
        "71a393400a314ce18bd138818ae68f98": {
          "model_module": "jupyter-leaflet",
          "model_name": "LeafletMarkerModel",
          "model_module_version": "^0.18",
          "state": {
            "_model_module": "jupyter-leaflet",
            "_model_module_version": "^0.18",
            "_model_name": "LeafletMarkerModel",
            "_view_count": null,
            "_view_module": "jupyter-leaflet",
            "_view_module_version": "^0.18",
            "_view_name": "LeafletMarkerView",
            "alt": "",
            "base": false,
            "bottom": false,
            "draggable": true,
            "icon": null,
            "keyboard": true,
            "location": [
              -3.994521,
              -79.211542
            ],
            "name": "",
            "opacity": 1,
            "options": [
              "alt",
              "draggable",
              "keyboard",
              "rise_offset",
              "rise_on_hover",
              "rotation_angle",
              "rotation_origin",
              "title",
              "z_index_offset"
            ],
            "pane": "",
            "popup": "IPY_MODEL_5621d1c836814ca8ae3301c2843b251c",
            "popup_max_height": null,
            "popup_max_width": 300,
            "popup_min_width": 50,
            "rise_offset": 250,
            "rise_on_hover": false,
            "rotation_angle": 0,
            "rotation_origin": "",
            "subitems": [],
            "title": "",
            "visible": true,
            "z_index_offset": 0
          }
        },
        "56297632fa434b299bb13750f91b3281": {
          "model_module": "@jupyter-widgets/base",
          "model_name": "LayoutModel",
          "model_module_version": "1.2.0",
          "state": {
            "_model_module": "@jupyter-widgets/base",
            "_model_module_version": "1.2.0",
            "_model_name": "LayoutModel",
            "_view_count": null,
            "_view_module": "@jupyter-widgets/base",
            "_view_module_version": "1.2.0",
            "_view_name": "LayoutView",
            "align_content": null,
            "align_items": null,
            "align_self": null,
            "border": null,
            "bottom": null,
            "display": null,
            "flex": null,
            "flex_flow": null,
            "grid_area": null,
            "grid_auto_columns": null,
            "grid_auto_flow": null,
            "grid_auto_rows": null,
            "grid_column": null,
            "grid_gap": null,
            "grid_row": null,
            "grid_template_areas": null,
            "grid_template_columns": null,
            "grid_template_rows": null,
            "height": null,
            "justify_content": null,
            "justify_items": null,
            "left": null,
            "margin": null,
            "max_height": null,
            "max_width": null,
            "min_height": null,
            "min_width": null,
            "object_fit": null,
            "object_position": null,
            "order": null,
            "overflow": null,
            "overflow_x": null,
            "overflow_y": null,
            "padding": null,
            "right": null,
            "top": null,
            "visibility": null,
            "width": null
          }
        },
        "39377425b90144918d3ac48c392c7206": {
          "model_module": "@jupyter-widgets/controls",
          "model_name": "DescriptionStyleModel",
          "model_module_version": "1.5.0",
          "state": {
            "_model_module": "@jupyter-widgets/controls",
            "_model_module_version": "1.5.0",
            "_model_name": "DescriptionStyleModel",
            "_view_count": null,
            "_view_module": "@jupyter-widgets/base",
            "_view_module_version": "1.2.0",
            "_view_name": "StyleView",
            "description_width": ""
          }
        },
        "cd520a360c234be7bcf31361fa4fe4f9": {
          "model_module": "@jupyter-widgets/controls",
          "model_name": "TextModel",
          "model_module_version": "1.5.0",
          "state": {
            "_dom_classes": [],
            "_model_module": "@jupyter-widgets/controls",
            "_model_module_version": "1.5.0",
            "_model_name": "TextModel",
            "_view_count": null,
            "_view_module": "@jupyter-widgets/controls",
            "_view_module_version": "1.5.0",
            "_view_name": "TextView",
            "continuous_update": true,
            "description": "",
            "description_tooltip": null,
            "disabled": false,
            "layout": "IPY_MODEL_56297632fa434b299bb13750f91b3281",
            "placeholder": "​",
            "style": "IPY_MODEL_39377425b90144918d3ac48c392c7206",
            "value": "Point B"
          }
        },
        "f239cae8478f48bca7121f77680f877f": {
          "model_module": "jupyter-leaflet",
          "model_name": "LeafletPopupModel",
          "model_module_version": "^0.18",
          "state": {
            "_model_module": "jupyter-leaflet",
            "_model_module_version": "^0.18",
            "_model_name": "LeafletPopupModel",
            "_view_count": null,
            "_view_module": "jupyter-leaflet",
            "_view_module_version": "^0.18",
            "_view_name": "LeafletPopupView",
            "auto_close": false,
            "auto_pan": true,
            "auto_pan_padding": [
              5,
              5
            ],
            "auto_pan_padding_bottom_right": null,
            "auto_pan_padding_top_left": null,
            "base": false,
            "bottom": false,
            "child": "IPY_MODEL_cd520a360c234be7bcf31361fa4fe4f9",
            "close_button": false,
            "close_on_escape_key": true,
            "keep_in_view": false,
            "location": [
              -3.988506,
              -79.357739
            ],
            "max_height": null,
            "max_width": 300,
            "min_width": 50,
            "name": "",
            "options": [
              "auto_close",
              "auto_pan",
              "auto_pan_padding",
              "auto_pan_padding_bottom_right",
              "auto_pan_padding_top_left",
              "close_button",
              "close_on_escape_key",
              "keep_in_view",
              "max_height",
              "max_width",
              "min_width"
            ],
            "pane": "",
            "popup": null,
            "popup_max_height": null,
            "popup_max_width": 300,
            "popup_min_width": 50,
            "subitems": []
          }
        },
        "dccddcd947034ef3a13baf247e746808": {
          "model_module": "@jupyter-widgets/base",
          "model_name": "LayoutModel",
          "model_module_version": "1.2.0",
          "state": {
            "_model_module": "@jupyter-widgets/base",
            "_model_module_version": "1.2.0",
            "_model_name": "LayoutModel",
            "_view_count": null,
            "_view_module": "@jupyter-widgets/base",
            "_view_module_version": "1.2.0",
            "_view_name": "LayoutView",
            "align_content": null,
            "align_items": null,
            "align_self": null,
            "border": null,
            "bottom": null,
            "display": null,
            "flex": null,
            "flex_flow": null,
            "grid_area": null,
            "grid_auto_columns": null,
            "grid_auto_flow": null,
            "grid_auto_rows": null,
            "grid_column": null,
            "grid_gap": null,
            "grid_row": null,
            "grid_template_areas": null,
            "grid_template_columns": null,
            "grid_template_rows": null,
            "height": null,
            "justify_content": null,
            "justify_items": null,
            "left": null,
            "margin": null,
            "max_height": null,
            "max_width": null,
            "min_height": null,
            "min_width": null,
            "object_fit": null,
            "object_position": null,
            "order": null,
            "overflow": null,
            "overflow_x": null,
            "overflow_y": null,
            "padding": null,
            "right": null,
            "top": null,
            "visibility": null,
            "width": null
          }
        },
        "71639b9963d54973b871a19d1b66092e": {
          "model_module": "@jupyter-widgets/controls",
          "model_name": "DescriptionStyleModel",
          "model_module_version": "1.5.0",
          "state": {
            "_model_module": "@jupyter-widgets/controls",
            "_model_module_version": "1.5.0",
            "_model_name": "DescriptionStyleModel",
            "_view_count": null,
            "_view_module": "@jupyter-widgets/base",
            "_view_module_version": "1.2.0",
            "_view_name": "StyleView",
            "description_width": ""
          }
        },
        "1e514c9404214f66a3decced78bf3256": {
          "model_module": "@jupyter-widgets/controls",
          "model_name": "TextModel",
          "model_module_version": "1.5.0",
          "state": {
            "_dom_classes": [],
            "_model_module": "@jupyter-widgets/controls",
            "_model_module_version": "1.5.0",
            "_model_name": "TextModel",
            "_view_count": null,
            "_view_module": "@jupyter-widgets/controls",
            "_view_module_version": "1.5.0",
            "_view_name": "TextView",
            "continuous_update": true,
            "description": "",
            "description_tooltip": null,
            "disabled": false,
            "layout": "IPY_MODEL_dccddcd947034ef3a13baf247e746808",
            "placeholder": "​",
            "style": "IPY_MODEL_71639b9963d54973b871a19d1b66092e",
            "value": "Point C"
          }
        },
        "12a8a6292ee64b98b16a651e89cd725d": {
          "model_module": "jupyter-leaflet",
          "model_name": "LeafletPopupModel",
          "model_module_version": "^0.18",
          "state": {
            "_model_module": "jupyter-leaflet",
            "_model_module_version": "^0.18",
            "_model_name": "LeafletPopupModel",
            "_view_count": null,
            "_view_module": "jupyter-leaflet",
            "_view_module_version": "^0.18",
            "_view_name": "LeafletPopupView",
            "auto_close": false,
            "auto_pan": true,
            "auto_pan_padding": [
              5,
              5
            ],
            "auto_pan_padding_bottom_right": null,
            "auto_pan_padding_top_left": null,
            "base": false,
            "bottom": false,
            "child": "IPY_MODEL_1e514c9404214f66a3decced78bf3256",
            "close_button": false,
            "close_on_escape_key": true,
            "keep_in_view": false,
            "location": [
              -3.942725,
              -79.433652
            ],
            "max_height": null,
            "max_width": 300,
            "min_width": 50,
            "name": "",
            "options": [
              "auto_close",
              "auto_pan",
              "auto_pan_padding",
              "auto_pan_padding_bottom_right",
              "auto_pan_padding_top_left",
              "close_button",
              "close_on_escape_key",
              "keep_in_view",
              "max_height",
              "max_width",
              "min_width"
            ],
            "pane": "",
            "popup": null,
            "popup_max_height": null,
            "popup_max_width": 300,
            "popup_min_width": 50,
            "subitems": []
          }
        },
        "2211fc336c9f4b708885a88b1cb27427": {
          "model_module": "@jupyter-widgets/base",
          "model_name": "LayoutModel",
          "model_module_version": "1.2.0",
          "state": {
            "_model_module": "@jupyter-widgets/base",
            "_model_module_version": "1.2.0",
            "_model_name": "LayoutModel",
            "_view_count": null,
            "_view_module": "@jupyter-widgets/base",
            "_view_module_version": "1.2.0",
            "_view_name": "LayoutView",
            "align_content": null,
            "align_items": null,
            "align_self": null,
            "border": null,
            "bottom": null,
            "display": null,
            "flex": null,
            "flex_flow": null,
            "grid_area": null,
            "grid_auto_columns": null,
            "grid_auto_flow": null,
            "grid_auto_rows": null,
            "grid_column": null,
            "grid_gap": null,
            "grid_row": null,
            "grid_template_areas": null,
            "grid_template_columns": null,
            "grid_template_rows": null,
            "height": null,
            "justify_content": null,
            "justify_items": null,
            "left": null,
            "margin": null,
            "max_height": null,
            "max_width": null,
            "min_height": null,
            "min_width": null,
            "object_fit": null,
            "object_position": null,
            "order": null,
            "overflow": null,
            "overflow_x": null,
            "overflow_y": null,
            "padding": null,
            "right": null,
            "top": null,
            "visibility": null,
            "width": null
          }
        },
        "1651804b3e014ef390e7e9b3c9f69d9c": {
          "model_module": "@jupyter-widgets/controls",
          "model_name": "ButtonStyleModel",
          "model_module_version": "1.5.0",
          "state": {
            "_model_module": "@jupyter-widgets/controls",
            "_model_module_version": "1.5.0",
            "_model_name": "ButtonStyleModel",
            "_view_count": null,
            "_view_module": "@jupyter-widgets/base",
            "_view_module_version": "1.2.0",
            "_view_name": "StyleView",
            "button_color": null,
            "font_weight": ""
          }
        },
        "1daf9ea672d74486be6a1c0da5a1fc2d": {
          "model_module": "jupyter-leaflet",
          "model_name": "LeafletMapModel",
          "model_module_version": "^0.18",
          "state": {
            "_dom_classes": [],
            "_model_module": "jupyter-leaflet",
            "_model_module_version": "^0.18",
            "_model_name": "LeafletMapModel",
            "_view_count": null,
            "_view_module": "jupyter-leaflet",
            "_view_module_version": "^0.18",
            "_view_name": "LeafletMapView",
            "bottom": 536107,
            "bounce_at_zoom_limits": true,
            "box_zoom": true,
            "center": [
              -3.985848295087399,
              -79.21142578125001
            ],
            "close_popup_on_click": true,
            "controls": [
              "IPY_MODEL_e56e2a00d7d34e43843f91db809d9d04",
              "IPY_MODEL_879ae49fb6954fba836162d750f07bee",
              "IPY_MODEL_4eb00220f60c4df094acdf3f3a992d1f"
            ],
            "crs": {
              "name": "EPSG3857",
              "custom": false
            },
            "default_style": "IPY_MODEL_f37123f1bb3b4a37b9df267d54c35b20",
            "double_click_zoom": true,
            "dragging": true,
            "dragging_style": "IPY_MODEL_5d6205c5c44848669c0701ff3b343673",
            "east": -78.93985748291017,
            "fullscreen": false,
            "inertia": true,
            "inertia_deceleration": 3000,
            "inertia_max_speed": 1500,
            "interpolation": "bilinear",
            "keyboard": true,
            "keyboard_pan_offset": 80,
            "keyboard_zoom_offset": 1,
            "layers": [
              "IPY_MODEL_4e5a2567f93d41208229e9a54826b6db",
              "IPY_MODEL_71a393400a314ce18bd138818ae68f98",
              "IPY_MODEL_f9231945424b493bb644411c2c2653b7",
              "IPY_MODEL_d3f7d55f201641afa5a5366ed1d88078"
            ],
            "layout": "IPY_MODEL_d138e85955da4567957b9e922bc07ed9",
            "left": 292777,
            "max_zoom": null,
            "min_zoom": null,
            "modisdate": "2024-04-15",
            "north": -3.9173469899346296,
            "options": [
              "bounce_at_zoom_limits",
              "box_zoom",
              "center",
              "close_popup_on_click",
              "double_click_zoom",
              "dragging",
              "fullscreen",
              "inertia",
              "inertia_deceleration",
              "inertia_max_speed",
              "interpolation",
              "keyboard",
              "keyboard_pan_offset",
              "keyboard_zoom_offset",
              "max_zoom",
              "min_zoom",
              "prefer_canvas",
              "scroll_wheel_zoom",
              "tap",
              "tap_tolerance",
              "touch_zoom",
              "world_copy_jump",
              "zoom",
              "zoom_animation_threshold",
              "zoom_delta",
              "zoom_snap"
            ],
            "panes": {},
            "prefer_canvas": false,
            "right": 294359,
            "scroll_wheel_zoom": false,
            "south": -4.054343894153841,
            "style": "IPY_MODEL_f37123f1bb3b4a37b9df267d54c35b20",
            "tap": true,
            "tap_tolerance": 15,
            "top": 535707,
            "touch_zoom": true,
            "west": -79.48299407958984,
            "window_url": "https://lqgg16dunl-496ff2e9c6d22116-0-colab.googleusercontent.com/outputframe.html?vrz=colab_20240415-060146_RC00_624901883",
            "world_copy_jump": false,
            "zoom": 12,
            "zoom_animation_threshold": 4,
            "zoom_delta": 1,
            "zoom_snap": 1
          }
        },
        "9af117e900ce471cb4c90000d83d6be7": {
          "model_module": "@jupyter-widgets/controls",
          "model_name": "ButtonModel",
          "model_module_version": "1.5.0",
          "state": {
            "_dom_classes": [],
            "_model_module": "@jupyter-widgets/controls",
            "_model_module_version": "1.5.0",
            "_model_name": "ButtonModel",
            "_view_count": null,
            "_view_module": "@jupyter-widgets/controls",
            "_view_module_version": "1.5.0",
            "_view_name": "ButtonView",
            "button_style": "",
            "description": "Capture Coordinates",
            "disabled": false,
            "icon": "",
            "layout": "IPY_MODEL_2211fc336c9f4b708885a88b1cb27427",
            "style": "IPY_MODEL_1651804b3e014ef390e7e9b3c9f69d9c",
            "tooltip": ""
          }
        },
        "50bbc577502e402590649c07b8d82c34": {
          "model_module": "@jupyter-widgets/controls",
          "model_name": "TextModel",
          "model_module_version": "1.5.0",
          "state": {
            "_dom_classes": [],
            "_model_module": "@jupyter-widgets/controls",
            "_model_module_version": "1.5.0",
            "_model_name": "TextModel",
            "_view_count": null,
            "_view_module": "@jupyter-widgets/controls",
            "_view_module_version": "1.5.0",
            "_view_name": "TextView",
            "continuous_update": true,
            "description": "Captured Coordinates:",
            "description_tooltip": null,
            "disabled": false,
            "layout": "IPY_MODEL_ab0bd7488b21440d9f26fa260432189c",
            "placeholder": "​",
            "style": "IPY_MODEL_48dbe9b76fdd43f285a5a4f522c27bd9",
            "value": "Point A: [-3.994521, -79.211542], Point B: [-3.988506, -79.357739], Point C: [-3.942725, -79.433652]"
          }
        },
        "95f302f464b24e8a872fb333ca88f44e": {
          "model_module": "@jupyter-widgets/base",
          "model_name": "LayoutModel",
          "model_module_version": "1.2.0",
          "state": {
            "_model_module": "@jupyter-widgets/base",
            "_model_module_version": "1.2.0",
            "_model_name": "LayoutModel",
            "_view_count": null,
            "_view_module": "@jupyter-widgets/base",
            "_view_module_version": "1.2.0",
            "_view_name": "LayoutView",
            "align_content": null,
            "align_items": null,
            "align_self": null,
            "border": null,
            "bottom": null,
            "display": null,
            "flex": null,
            "flex_flow": null,
            "grid_area": null,
            "grid_auto_columns": null,
            "grid_auto_flow": null,
            "grid_auto_rows": null,
            "grid_column": null,
            "grid_gap": null,
            "grid_row": null,
            "grid_template_areas": null,
            "grid_template_columns": null,
            "grid_template_rows": null,
            "height": null,
            "justify_content": null,
            "justify_items": null,
            "left": null,
            "margin": null,
            "max_height": null,
            "max_width": null,
            "min_height": null,
            "min_width": null,
            "object_fit": null,
            "object_position": null,
            "order": null,
            "overflow": null,
            "overflow_x": null,
            "overflow_y": null,
            "padding": null,
            "right": null,
            "top": null,
            "visibility": null,
            "width": null
          }
        },
        "42e317c2618f455da68e4ad851bc93fe": {
          "model_module": "@jupyter-widgets/controls",
          "model_name": "VBoxModel",
          "model_module_version": "1.5.0",
          "state": {
            "_dom_classes": [],
            "_model_module": "@jupyter-widgets/controls",
            "_model_module_version": "1.5.0",
            "_model_name": "VBoxModel",
            "_view_count": null,
            "_view_module": "@jupyter-widgets/controls",
            "_view_module_version": "1.5.0",
            "_view_name": "VBoxView",
            "box_style": "",
            "children": [
              "IPY_MODEL_1daf9ea672d74486be6a1c0da5a1fc2d",
              "IPY_MODEL_9af117e900ce471cb4c90000d83d6be7",
              "IPY_MODEL_50bbc577502e402590649c07b8d82c34"
            ],
            "layout": "IPY_MODEL_95f302f464b24e8a872fb333ca88f44e"
          }
        },
        "f9231945424b493bb644411c2c2653b7": {
          "model_module": "jupyter-leaflet",
          "model_name": "LeafletMarkerModel",
          "model_module_version": "^0.18",
          "state": {
            "_model_module": "jupyter-leaflet",
            "_model_module_version": "^0.18",
            "_model_name": "LeafletMarkerModel",
            "_view_count": null,
            "_view_module": "jupyter-leaflet",
            "_view_module_version": "^0.18",
            "_view_name": "LeafletMarkerView",
            "alt": "",
            "base": false,
            "bottom": false,
            "draggable": true,
            "icon": null,
            "keyboard": true,
            "location": [
              -3.988506,
              -79.357739
            ],
            "name": "",
            "opacity": 1,
            "options": [
              "alt",
              "draggable",
              "keyboard",
              "rise_offset",
              "rise_on_hover",
              "rotation_angle",
              "rotation_origin",
              "title",
              "z_index_offset"
            ],
            "pane": "",
            "popup": "IPY_MODEL_f239cae8478f48bca7121f77680f877f",
            "popup_max_height": null,
            "popup_max_width": 300,
            "popup_min_width": 50,
            "rise_offset": 250,
            "rise_on_hover": false,
            "rotation_angle": 0,
            "rotation_origin": "",
            "subitems": [],
            "title": "",
            "visible": true,
            "z_index_offset": 0
          }
        },
        "d3f7d55f201641afa5a5366ed1d88078": {
          "model_module": "jupyter-leaflet",
          "model_name": "LeafletMarkerModel",
          "model_module_version": "^0.18",
          "state": {
            "_model_module": "jupyter-leaflet",
            "_model_module_version": "^0.18",
            "_model_name": "LeafletMarkerModel",
            "_view_count": null,
            "_view_module": "jupyter-leaflet",
            "_view_module_version": "^0.18",
            "_view_name": "LeafletMarkerView",
            "alt": "",
            "base": false,
            "bottom": false,
            "draggable": true,
            "icon": null,
            "keyboard": true,
            "location": [
              -3.942725,
              -79.433652
            ],
            "name": "",
            "opacity": 1,
            "options": [
              "alt",
              "draggable",
              "keyboard",
              "rise_offset",
              "rise_on_hover",
              "rotation_angle",
              "rotation_origin",
              "title",
              "z_index_offset"
            ],
            "pane": "",
            "popup": "IPY_MODEL_12a8a6292ee64b98b16a651e89cd725d",
            "popup_max_height": null,
            "popup_max_width": 300,
            "popup_min_width": 50,
            "rise_offset": 250,
            "rise_on_hover": false,
            "rotation_angle": 0,
            "rotation_origin": "",
            "subitems": [],
            "title": "",
            "visible": true,
            "z_index_offset": 0
          }
        },
        "ab0bd7488b21440d9f26fa260432189c": {
          "model_module": "@jupyter-widgets/base",
          "model_name": "LayoutModel",
          "model_module_version": "1.2.0",
          "state": {
            "_model_module": "@jupyter-widgets/base",
            "_model_module_version": "1.2.0",
            "_model_name": "LayoutModel",
            "_view_count": null,
            "_view_module": "@jupyter-widgets/base",
            "_view_module_version": "1.2.0",
            "_view_name": "LayoutView",
            "align_content": null,
            "align_items": null,
            "align_self": null,
            "border": null,
            "bottom": null,
            "display": null,
            "flex": null,
            "flex_flow": null,
            "grid_area": null,
            "grid_auto_columns": null,
            "grid_auto_flow": null,
            "grid_auto_rows": null,
            "grid_column": null,
            "grid_gap": null,
            "grid_row": null,
            "grid_template_areas": null,
            "grid_template_columns": null,
            "grid_template_rows": null,
            "height": "20px",
            "justify_content": null,
            "justify_items": null,
            "left": null,
            "margin": "10px 0 10px 0",
            "max_height": null,
            "max_width": null,
            "min_height": null,
            "min_width": null,
            "object_fit": null,
            "object_position": null,
            "order": null,
            "overflow": null,
            "overflow_x": null,
            "overflow_y": null,
            "padding": null,
            "right": null,
            "top": null,
            "visibility": null,
            "width": "50%"
          }
        },
        "4c75b4ca684c4f44b9426e8fe541fd54": {
          "model_module": "@jupyter-widgets/controls",
          "model_name": "HTMLModel",
          "model_module_version": "1.5.0",
          "state": {
            "_dom_classes": [],
            "_model_module": "@jupyter-widgets/controls",
            "_model_module_version": "1.5.0",
            "_model_name": "HTMLModel",
            "_view_count": null,
            "_view_module": "@jupyter-widgets/controls",
            "_view_module_version": "1.5.0",
            "_view_name": "HTMLView",
            "description": "",
            "description_tooltip": null,
            "layout": "IPY_MODEL_d0c4d9a1b1734f53a00436f3b23645c7",
            "placeholder": "​",
            "style": "IPY_MODEL_6b6156a0198f4b10b96d900210ac56d2",
            "value": "<strong style=\"font-size: 16px;\">Calculations based on the given circumstances and coordinates:</strong>"
          }
        },
        "d0c4d9a1b1734f53a00436f3b23645c7": {
          "model_module": "@jupyter-widgets/base",
          "model_name": "LayoutModel",
          "model_module_version": "1.2.0",
          "state": {
            "_model_module": "@jupyter-widgets/base",
            "_model_module_version": "1.2.0",
            "_model_name": "LayoutModel",
            "_view_count": null,
            "_view_module": "@jupyter-widgets/base",
            "_view_module_version": "1.2.0",
            "_view_name": "LayoutView",
            "align_content": null,
            "align_items": null,
            "align_self": null,
            "border": null,
            "bottom": null,
            "display": null,
            "flex": null,
            "flex_flow": null,
            "grid_area": null,
            "grid_auto_columns": null,
            "grid_auto_flow": null,
            "grid_auto_rows": null,
            "grid_column": null,
            "grid_gap": null,
            "grid_row": null,
            "grid_template_areas": null,
            "grid_template_columns": null,
            "grid_template_rows": null,
            "height": null,
            "justify_content": null,
            "justify_items": null,
            "left": null,
            "margin": null,
            "max_height": null,
            "max_width": null,
            "min_height": null,
            "min_width": null,
            "object_fit": null,
            "object_position": null,
            "order": null,
            "overflow": null,
            "overflow_x": null,
            "overflow_y": null,
            "padding": null,
            "right": null,
            "top": null,
            "visibility": null,
            "width": null
          }
        },
        "6b6156a0198f4b10b96d900210ac56d2": {
          "model_module": "@jupyter-widgets/controls",
          "model_name": "DescriptionStyleModel",
          "model_module_version": "1.5.0",
          "state": {
            "_model_module": "@jupyter-widgets/controls",
            "_model_module_version": "1.5.0",
            "_model_name": "DescriptionStyleModel",
            "_view_count": null,
            "_view_module": "@jupyter-widgets/base",
            "_view_module_version": "1.2.0",
            "_view_name": "StyleView",
            "description_width": ""
          }
        },
        "f1b00d43e8714d90baeba3521ac31289": {
          "model_module": "@jupyter-widgets/controls",
          "model_name": "HTMLModel",
          "model_module_version": "1.5.0",
          "state": {
            "_dom_classes": [],
            "_model_module": "@jupyter-widgets/controls",
            "_model_module_version": "1.5.0",
            "_model_name": "HTMLModel",
            "_view_count": null,
            "_view_module": "@jupyter-widgets/controls",
            "_view_module_version": "1.5.0",
            "_view_name": "HTMLView",
            "description": "",
            "description_tooltip": null,
            "layout": "IPY_MODEL_eed2de2a0b7b45bfa13a0b2eaa5d5ab0",
            "placeholder": "​",
            "style": "IPY_MODEL_b19bee720f804cfbba5fedee106a5ef4",
            "value": "Play with the sliders (Speed, Fuel Price, and No. of Person) to see changes"
          }
        },
        "eed2de2a0b7b45bfa13a0b2eaa5d5ab0": {
          "model_module": "@jupyter-widgets/base",
          "model_name": "LayoutModel",
          "model_module_version": "1.2.0",
          "state": {
            "_model_module": "@jupyter-widgets/base",
            "_model_module_version": "1.2.0",
            "_model_name": "LayoutModel",
            "_view_count": null,
            "_view_module": "@jupyter-widgets/base",
            "_view_module_version": "1.2.0",
            "_view_name": "LayoutView",
            "align_content": null,
            "align_items": null,
            "align_self": null,
            "border": null,
            "bottom": null,
            "display": null,
            "flex": null,
            "flex_flow": null,
            "grid_area": null,
            "grid_auto_columns": null,
            "grid_auto_flow": null,
            "grid_auto_rows": null,
            "grid_column": null,
            "grid_gap": null,
            "grid_row": null,
            "grid_template_areas": null,
            "grid_template_columns": null,
            "grid_template_rows": null,
            "height": null,
            "justify_content": null,
            "justify_items": null,
            "left": null,
            "margin": null,
            "max_height": null,
            "max_width": null,
            "min_height": null,
            "min_width": null,
            "object_fit": null,
            "object_position": null,
            "order": null,
            "overflow": null,
            "overflow_x": null,
            "overflow_y": null,
            "padding": null,
            "right": null,
            "top": null,
            "visibility": null,
            "width": null
          }
        },
        "b19bee720f804cfbba5fedee106a5ef4": {
          "model_module": "@jupyter-widgets/controls",
          "model_name": "DescriptionStyleModel",
          "model_module_version": "1.5.0",
          "state": {
            "_model_module": "@jupyter-widgets/controls",
            "_model_module_version": "1.5.0",
            "_model_name": "DescriptionStyleModel",
            "_view_count": null,
            "_view_module": "@jupyter-widgets/base",
            "_view_module_version": "1.2.0",
            "_view_name": "StyleView",
            "description_width": ""
          }
        },
        "0bddd5472ae44c9993ebe2f82c13c104": {
          "model_module": "@jupyter-widgets/controls",
          "model_name": "VBoxModel",
          "model_module_version": "1.5.0",
          "state": {
            "_dom_classes": [],
            "_model_module": "@jupyter-widgets/controls",
            "_model_module_version": "1.5.0",
            "_model_name": "VBoxModel",
            "_view_count": null,
            "_view_module": "@jupyter-widgets/controls",
            "_view_module_version": "1.5.0",
            "_view_name": "VBoxView",
            "box_style": "",
            "children": [
              "IPY_MODEL_82f1c712ab1344458de876b633fc1076",
              "IPY_MODEL_316ce8c3e50a4b40b535668202507933",
              "IPY_MODEL_cca71fb08b55437db8a2d77b26afd0ca",
              "IPY_MODEL_3af07805f6c247bebc75d152244d1377",
              "IPY_MODEL_3240ec945b014be79362194d2cd459eb",
              "IPY_MODEL_2f26e5f2734e442794ee51ca17339837"
            ],
            "layout": "IPY_MODEL_e1c5314399b14af5828deb7107b935b3"
          }
        },
        "82f1c712ab1344458de876b633fc1076": {
          "model_module": "@jupyter-widgets/controls",
          "model_name": "IntSliderModel",
          "model_module_version": "1.5.0",
          "state": {
            "_dom_classes": [],
            "_model_module": "@jupyter-widgets/controls",
            "_model_module_version": "1.5.0",
            "_model_name": "IntSliderModel",
            "_view_count": null,
            "_view_module": "@jupyter-widgets/controls",
            "_view_module_version": "1.5.0",
            "_view_name": "IntSliderView",
            "continuous_update": true,
            "description": "Distance A to B (km):",
            "description_tooltip": null,
            "disabled": false,
            "layout": "IPY_MODEL_8b4f06cc041141f98bccac377e026818",
            "max": 500,
            "min": 0,
            "orientation": "horizontal",
            "readout": true,
            "readout_format": "d",
            "step": 10,
            "style": "IPY_MODEL_8f9d64bd4c2b4bb7b664755c9e056bd1",
            "value": 20
          }
        },
        "316ce8c3e50a4b40b535668202507933": {
          "model_module": "@jupyter-widgets/controls",
          "model_name": "IntSliderModel",
          "model_module_version": "1.5.0",
          "state": {
            "_dom_classes": [],
            "_model_module": "@jupyter-widgets/controls",
            "_model_module_version": "1.5.0",
            "_model_name": "IntSliderModel",
            "_view_count": null,
            "_view_module": "@jupyter-widgets/controls",
            "_view_module_version": "1.5.0",
            "_view_name": "IntSliderView",
            "continuous_update": true,
            "description": "Distance B to C (km):",
            "description_tooltip": null,
            "disabled": false,
            "layout": "IPY_MODEL_8b4f06cc041141f98bccac377e026818",
            "max": 500,
            "min": 0,
            "orientation": "horizontal",
            "readout": true,
            "readout_format": "d",
            "step": 10,
            "style": "IPY_MODEL_37205bce4ec640529e893c9c783666ea",
            "value": 10
          }
        },
        "cca71fb08b55437db8a2d77b26afd0ca": {
          "model_module": "@jupyter-widgets/controls",
          "model_name": "IntSliderModel",
          "model_module_version": "1.5.0",
          "state": {
            "_dom_classes": [],
            "_model_module": "@jupyter-widgets/controls",
            "_model_module_version": "1.5.0",
            "_model_name": "IntSliderModel",
            "_view_count": null,
            "_view_module": "@jupyter-widgets/controls",
            "_view_module_version": "1.5.0",
            "_view_name": "IntSliderView",
            "continuous_update": true,
            "description": "Distance C to A (km):",
            "description_tooltip": null,
            "disabled": false,
            "layout": "IPY_MODEL_8b4f06cc041141f98bccac377e026818",
            "max": 500,
            "min": 0,
            "orientation": "horizontal",
            "readout": true,
            "readout_format": "d",
            "step": 10,
            "style": "IPY_MODEL_939f53da79244458b9634e2ab68a8f36",
            "value": 30
          }
        },
        "3af07805f6c247bebc75d152244d1377": {
          "model_module": "@jupyter-widgets/controls",
          "model_name": "IntSliderModel",
          "model_module_version": "1.5.0",
          "state": {
            "_dom_classes": [],
            "_model_module": "@jupyter-widgets/controls",
            "_model_module_version": "1.5.0",
            "_model_name": "IntSliderModel",
            "_view_count": null,
            "_view_module": "@jupyter-widgets/controls",
            "_view_module_version": "1.5.0",
            "_view_name": "IntSliderView",
            "continuous_update": true,
            "description": "Speed:",
            "description_tooltip": null,
            "disabled": false,
            "layout": "IPY_MODEL_8b4f06cc041141f98bccac377e026818",
            "max": 120,
            "min": 0,
            "orientation": "horizontal",
            "readout": true,
            "readout_format": "d",
            "step": 5,
            "style": "IPY_MODEL_d1593b623fdd4e7cbc25f78bf31934d3",
            "value": 60
          }
        },
        "3240ec945b014be79362194d2cd459eb": {
          "model_module": "@jupyter-widgets/controls",
          "model_name": "FloatSliderModel",
          "model_module_version": "1.5.0",
          "state": {
            "_dom_classes": [],
            "_model_module": "@jupyter-widgets/controls",
            "_model_module_version": "1.5.0",
            "_model_name": "FloatSliderModel",
            "_view_count": null,
            "_view_module": "@jupyter-widgets/controls",
            "_view_module_version": "1.5.0",
            "_view_name": "FloatSliderView",
            "continuous_update": true,
            "description": "Fuel Price:",
            "description_tooltip": null,
            "disabled": false,
            "layout": "IPY_MODEL_8b4f06cc041141f98bccac377e026818",
            "max": 5,
            "min": 1,
            "orientation": "horizontal",
            "readout": true,
            "readout_format": ".2f",
            "step": 0.1,
            "style": "IPY_MODEL_7818106ad3814ed5a521e3df5eb0e0e8",
            "value": 3.5
          }
        },
        "2f26e5f2734e442794ee51ca17339837": {
          "model_module": "@jupyter-widgets/controls",
          "model_name": "IntSliderModel",
          "model_module_version": "1.5.0",
          "state": {
            "_dom_classes": [],
            "_model_module": "@jupyter-widgets/controls",
            "_model_module_version": "1.5.0",
            "_model_name": "IntSliderModel",
            "_view_count": null,
            "_view_module": "@jupyter-widgets/controls",
            "_view_module_version": "1.5.0",
            "_view_name": "IntSliderView",
            "continuous_update": true,
            "description": "No. of Persons:",
            "description_tooltip": null,
            "disabled": false,
            "layout": "IPY_MODEL_8b4f06cc041141f98bccac377e026818",
            "max": 10,
            "min": 1,
            "orientation": "horizontal",
            "readout": true,
            "readout_format": "d",
            "step": 1,
            "style": "IPY_MODEL_c7d808cd298148b7b70a0392fac9bbb0",
            "value": 3
          }
        },
        "e1c5314399b14af5828deb7107b935b3": {
          "model_module": "@jupyter-widgets/base",
          "model_name": "LayoutModel",
          "model_module_version": "1.2.0",
          "state": {
            "_model_module": "@jupyter-widgets/base",
            "_model_module_version": "1.2.0",
            "_model_name": "LayoutModel",
            "_view_count": null,
            "_view_module": "@jupyter-widgets/base",
            "_view_module_version": "1.2.0",
            "_view_name": "LayoutView",
            "align_content": null,
            "align_items": null,
            "align_self": null,
            "border": null,
            "bottom": null,
            "display": null,
            "flex": null,
            "flex_flow": null,
            "grid_area": null,
            "grid_auto_columns": null,
            "grid_auto_flow": null,
            "grid_auto_rows": null,
            "grid_column": null,
            "grid_gap": null,
            "grid_row": null,
            "grid_template_areas": null,
            "grid_template_columns": null,
            "grid_template_rows": null,
            "height": null,
            "justify_content": null,
            "justify_items": null,
            "left": null,
            "margin": null,
            "max_height": null,
            "max_width": null,
            "min_height": null,
            "min_width": null,
            "object_fit": null,
            "object_position": null,
            "order": null,
            "overflow": null,
            "overflow_x": null,
            "overflow_y": null,
            "padding": null,
            "right": null,
            "top": null,
            "visibility": null,
            "width": null
          }
        },
        "8b4f06cc041141f98bccac377e026818": {
          "model_module": "@jupyter-widgets/base",
          "model_name": "LayoutModel",
          "model_module_version": "1.2.0",
          "state": {
            "_model_module": "@jupyter-widgets/base",
            "_model_module_version": "1.2.0",
            "_model_name": "LayoutModel",
            "_view_count": null,
            "_view_module": "@jupyter-widgets/base",
            "_view_module_version": "1.2.0",
            "_view_name": "LayoutView",
            "align_content": null,
            "align_items": null,
            "align_self": null,
            "border": null,
            "bottom": null,
            "display": null,
            "flex": null,
            "flex_flow": null,
            "grid_area": null,
            "grid_auto_columns": null,
            "grid_auto_flow": null,
            "grid_auto_rows": null,
            "grid_column": null,
            "grid_gap": null,
            "grid_row": null,
            "grid_template_areas": null,
            "grid_template_columns": null,
            "grid_template_rows": null,
            "height": null,
            "justify_content": null,
            "justify_items": null,
            "left": null,
            "margin": "10px 0px 0px 50px",
            "max_height": null,
            "max_width": null,
            "min_height": null,
            "min_width": null,
            "object_fit": null,
            "object_position": null,
            "order": null,
            "overflow": null,
            "overflow_x": null,
            "overflow_y": null,
            "padding": null,
            "right": null,
            "top": null,
            "visibility": null,
            "width": "500px"
          }
        },
        "8f9d64bd4c2b4bb7b664755c9e056bd1": {
          "model_module": "@jupyter-widgets/controls",
          "model_name": "SliderStyleModel",
          "model_module_version": "1.5.0",
          "state": {
            "_model_module": "@jupyter-widgets/controls",
            "_model_module_version": "1.5.0",
            "_model_name": "SliderStyleModel",
            "_view_count": null,
            "_view_module": "@jupyter-widgets/base",
            "_view_module_version": "1.2.0",
            "_view_name": "StyleView",
            "description_width": "",
            "handle_color": null
          }
        },
        "37205bce4ec640529e893c9c783666ea": {
          "model_module": "@jupyter-widgets/controls",
          "model_name": "SliderStyleModel",
          "model_module_version": "1.5.0",
          "state": {
            "_model_module": "@jupyter-widgets/controls",
            "_model_module_version": "1.5.0",
            "_model_name": "SliderStyleModel",
            "_view_count": null,
            "_view_module": "@jupyter-widgets/base",
            "_view_module_version": "1.2.0",
            "_view_name": "StyleView",
            "description_width": "",
            "handle_color": null
          }
        },
        "939f53da79244458b9634e2ab68a8f36": {
          "model_module": "@jupyter-widgets/controls",
          "model_name": "SliderStyleModel",
          "model_module_version": "1.5.0",
          "state": {
            "_model_module": "@jupyter-widgets/controls",
            "_model_module_version": "1.5.0",
            "_model_name": "SliderStyleModel",
            "_view_count": null,
            "_view_module": "@jupyter-widgets/base",
            "_view_module_version": "1.2.0",
            "_view_name": "StyleView",
            "description_width": "",
            "handle_color": null
          }
        },
        "d1593b623fdd4e7cbc25f78bf31934d3": {
          "model_module": "@jupyter-widgets/controls",
          "model_name": "SliderStyleModel",
          "model_module_version": "1.5.0",
          "state": {
            "_model_module": "@jupyter-widgets/controls",
            "_model_module_version": "1.5.0",
            "_model_name": "SliderStyleModel",
            "_view_count": null,
            "_view_module": "@jupyter-widgets/base",
            "_view_module_version": "1.2.0",
            "_view_name": "StyleView",
            "description_width": "",
            "handle_color": null
          }
        },
        "7818106ad3814ed5a521e3df5eb0e0e8": {
          "model_module": "@jupyter-widgets/controls",
          "model_name": "SliderStyleModel",
          "model_module_version": "1.5.0",
          "state": {
            "_model_module": "@jupyter-widgets/controls",
            "_model_module_version": "1.5.0",
            "_model_name": "SliderStyleModel",
            "_view_count": null,
            "_view_module": "@jupyter-widgets/base",
            "_view_module_version": "1.2.0",
            "_view_name": "StyleView",
            "description_width": "",
            "handle_color": null
          }
        },
        "c7d808cd298148b7b70a0392fac9bbb0": {
          "model_module": "@jupyter-widgets/controls",
          "model_name": "SliderStyleModel",
          "model_module_version": "1.5.0",
          "state": {
            "_model_module": "@jupyter-widgets/controls",
            "_model_module_version": "1.5.0",
            "_model_name": "SliderStyleModel",
            "_view_count": null,
            "_view_module": "@jupyter-widgets/base",
            "_view_module_version": "1.2.0",
            "_view_name": "StyleView",
            "description_width": "",
            "handle_color": null
          }
        },
        "cd56266d057f47c68146a2718ad74d1a": {
          "model_module": "@jupyter-widgets/output",
          "model_name": "OutputModel",
          "model_module_version": "1.0.0",
          "state": {
            "_dom_classes": [],
            "_model_module": "@jupyter-widgets/output",
            "_model_module_version": "1.0.0",
            "_model_name": "OutputModel",
            "_view_count": null,
            "_view_module": "@jupyter-widgets/output",
            "_view_module_version": "1.0.0",
            "_view_name": "OutputView",
            "layout": "IPY_MODEL_2f0dd74e50204e9aa1ea67d9a4514087",
            "msg_id": "",
            "outputs": [
              {
                "output_type": "stream",
                "name": "stdout",
                "text": [
                  "\n",
                  "Based on the circumstances above\n",
                  "Time to destination (hours): 1.00\n",
                  "Price per person: $2.33\n",
                  "Total fuel used (gallons): 2.00\n"
                ]
              }
            ]
          }
        },
        "2f0dd74e50204e9aa1ea67d9a4514087": {
          "model_module": "@jupyter-widgets/base",
          "model_name": "LayoutModel",
          "model_module_version": "1.2.0",
          "state": {
            "_model_module": "@jupyter-widgets/base",
            "_model_module_version": "1.2.0",
            "_model_name": "LayoutModel",
            "_view_count": null,
            "_view_module": "@jupyter-widgets/base",
            "_view_module_version": "1.2.0",
            "_view_name": "LayoutView",
            "align_content": null,
            "align_items": null,
            "align_self": null,
            "border": null,
            "bottom": null,
            "display": null,
            "flex": null,
            "flex_flow": null,
            "grid_area": null,
            "grid_auto_columns": null,
            "grid_auto_flow": null,
            "grid_auto_rows": null,
            "grid_column": null,
            "grid_gap": null,
            "grid_row": null,
            "grid_template_areas": null,
            "grid_template_columns": null,
            "grid_template_rows": null,
            "height": null,
            "justify_content": null,
            "justify_items": null,
            "left": null,
            "margin": null,
            "max_height": null,
            "max_width": null,
            "min_height": null,
            "min_width": null,
            "object_fit": null,
            "object_position": null,
            "order": null,
            "overflow": null,
            "overflow_x": null,
            "overflow_y": null,
            "padding": null,
            "right": null,
            "top": null,
            "visibility": null,
            "width": null
          }
        }
      }
    }
  },
  "cells": [
    {
      "cell_type": "markdown",
      "metadata": {
        "id": "view-in-github",
        "colab_type": "text"
      },
      "source": [
        "<a href=\"https://colab.research.google.com/github/Danielstevends/AirTransport/blob/main/final_project_air_transportation.ipynb\" target=\"_parent\"><img src=\"https://colab.research.google.com/assets/colab-badge.svg\" alt=\"Open In Colab\"/></a>"
      ]
    },
    {
      "cell_type": "markdown",
      "source": [
        "## Air Transportation Calculator\n",
        "\n",
        "Input:\n",
        "- Location of coordinates of Vertiports\n",
        "\n",
        "Output:\n",
        "- The distance\n",
        "- The time to travel within the Vertiports\n",
        "- Price per customers\n",
        "\n"
      ],
      "metadata": {
        "id": "B7vWkcboIzr5"
      }
    },
    {
      "cell_type": "code",
      "source": [
        "import matplotlib.pyplot as plt\n",
        "import math\n",
        "import ipywidgets as widgets\n",
        "import matplotlib.pyplot as plt\n",
        "import folium\n",
        "\n",
        "from IPython.display import display\n",
        "from ipywidgets import IntSlider, FloatSlider, VBox, interactive_output, Layout, Text, Button\n",
        "from ipywidgets import Button, HTML, VBox, Text\n",
        "from ipyleaflet import Map, Marker, Popup, FullScreenControl, MarkerCluster"
      ],
      "metadata": {
        "id": "3W61ymA_KVFC"
      },
      "execution_count": null,
      "outputs": []
    },
    {
      "cell_type": "code",
      "source": [
        "# Run this instead if we want to use sample coordinates for a, b, c\n",
        "a = [-3.994521, -79.211542]\n",
        "b = [-3.988506, -79.357739]\n",
        "c = [-3.942725, -79.433652]\n",
        "\n",
        "# Make a dictionary of the geographic coordinates\n",
        "coordinates = {\n",
        "    'a': (a[0], a[1]),  # Hospital in Loja, Ecuador\n",
        "    'b': (b[0], b[1]),  # Catamayo in Ecuador\n",
        "    'c': (c[0], c[1])   # San Pedro la Bendita\n",
        "}\n",
        "\n",
        "# Example inputs\n",
        "# Hospital in Loja, Ecuador (-3.994521, -79.211542)\n",
        "# Catamayo in Ecuador (-3.988506, -79.357739)\n",
        "# San Pedro la Bendita (-3.942725, -79.433652)"
      ],
      "metadata": {
        "id": "xEJ6765iK2jO"
      },
      "execution_count": null,
      "outputs": []
    },
    {
      "cell_type": "markdown",
      "source": [
        "No need to bellow code this if you want to use the above sample coordinates:"
      ],
      "metadata": {
        "id": "a8Isj0rnK56I"
      }
    },
    {
      "cell_type": "code",
      "source": [
        "# Function to parse input into coordinates\n",
        "def get_coordinates(input_string):\n",
        "    try:\n",
        "        x, y = map(float, input_string.strip().split(','))\n",
        "        return (x, y)\n",
        "    except ValueError:\n",
        "        print(\"Invalid input. Please enter two numeric values separated by a comma.\")\n",
        "        return None\n",
        "\n",
        "# Collecting coordinates\n",
        "print(\"Please enter the coordinates for points a, b, and c in the format 'x,y'.\")\n",
        "a = get_coordinates(input(\"Enter coordinates for point a: \"))\n",
        "b = get_coordinates(input(\"Enter coordinates for point b: \"))\n",
        "c = get_coordinates(input(\"Enter coordinates for point c: \"))\n",
        "\n",
        "# Ensure all points are valid before proceeding\n",
        "if None in coordinates.values():\n",
        "    print(\"Error: One or more entries are invalid.\")\n",
        "else:\n",
        "    # Extracting x and y coordinates\n",
        "    x_coords, y_coords = zip(*coordinates.values())\n",
        "    labels = coordinates.keys()\n",
        "\n",
        "\n",
        "# Example inputs\n",
        "# Hospital in Loja, Ecuador (-3.994521, -79.211542)\n",
        "# Catamayo in Ecuador (-3.988506, -79.357739)\n",
        "# San Pedro la Bendita (-3.942725, -79.433652)"
      ],
      "metadata": {
        "colab": {
          "base_uri": "https://localhost:8080/"
        },
        "id": "LoYdSKzxKyPy",
        "outputId": "edf14463-5ef5-42dd-b151-f754dc901670"
      },
      "execution_count": null,
      "outputs": [
        {
          "name": "stdout",
          "output_type": "stream",
          "text": [
            "Please enter the coordinates for points a, b, and c in the format 'x,y'.\n",
            "Enter coordinates for point a: -3.994521, -79.211542\n",
            "Enter coordinates for point b: -3.988506, -79.357739\n",
            "Enter coordinates for point c: -3.942725, -79.433652\n"
          ]
        }
      ]
    },
    {
      "cell_type": "code",
      "source": [
        "display(HTML('<strong style=\"font-size: 16px;\">Finalize the Location of the Coordinates</strong>'))\n",
        "display(HTML('Click \"Capture Coordinates\" to fixate'))\n",
        "\n",
        "\n",
        "# Define initial marker positions\n",
        "positions = [(a[0], a[1]), (b[0], b[1]), (c[0], c[1])]\n",
        "\n",
        "# Create a map\n",
        "m = Map(center=(a[0], a[1]), zoom=12)\n",
        "m.add_control(FullScreenControl())\n",
        "\n",
        "# Text widget for displaying coordinates\n",
        "coordinates_display = Text(value='', description='Captured Coordinates:', disabled=False)\n",
        "\n",
        "# Function to create and add a draggable marker to the map with a popup\n",
        "def add_draggable_marker(lat, lon, label):\n",
        "    marker = Marker(location=(lat, lon), draggable=True)\n",
        "    # Create a Popup for this marker\n",
        "    popup = Popup(location=(lat, lon), child=Text(value=label), close_button=False, auto_close=False)\n",
        "    marker.popup = popup\n",
        "    m.add_layer(marker)\n",
        "    return marker\n",
        "\n",
        "# Create markers with labels\n",
        "labels = ['Point A', 'Point B', 'Point C']\n",
        "markers = [add_draggable_marker(pos[0], pos[1], label) for pos, label in zip(positions, labels)]\n",
        "\n",
        "# Button to capture coordinates\n",
        "capture_button = Button(description=\"Capture Coordinates\")\n",
        "\n",
        "# Function to capture and parse coordinates on button click\n",
        "def on_button_clicked(x):\n",
        "    global a, b, c\n",
        "\n",
        "    # Retrieve the coordinates of the markers\n",
        "    a = markers[0].location\n",
        "    b = markers[1].location\n",
        "    c = markers[2].location\n",
        "\n",
        "    # Update the text widget to display the coordinates\n",
        "    coordinates_display.value = f\"Point A: {a}, Point B: {b}, Point C: {c}\"\n",
        "    coordinates_display.layout = Layout(width='50%', height='20px', margin='10px 0 10px 0')\n",
        "\n",
        "capture_button.on_click(on_button_clicked)\n",
        "\n",
        "# Display the map and widgets\n",
        "display(VBox([m, capture_button, coordinates_display]))"
      ],
      "metadata": {
        "colab": {
          "base_uri": "https://localhost:8080/",
          "height": 556,
          "referenced_widgets": [
            "bde7faf57b6a447f9ae8b70191fe8ee3",
            "e8a02988b6014c98bcba08827e95b5e4",
            "15bb76c126b14096a236c98e05a25506",
            "e69772a35d284e29a6efc785c4a74def",
            "89ed0ee494944f9680244f8f74dd418d",
            "ceac33886f7741b4b2addea7a04ffc0e",
            "39bfa157724e494fadfd5110e562a8b2",
            "48dbe9b76fdd43f285a5a4f522c27bd9",
            "92f304dfba434d59841cb122bd9604b8",
            "1e0054d3fc534d878f29c7c92395c82c",
            "f37123f1bb3b4a37b9df267d54c35b20",
            "5d6205c5c44848669c0701ff3b343673",
            "4e5a2567f93d41208229e9a54826b6db",
            "d138e85955da4567957b9e922bc07ed9",
            "63d4883f986a4006aa3855e57e599741",
            "d57dfc8878d8435ab86d06a7616d89aa",
            "5621d1c836814ca8ae3301c2843b251c",
            "e56e2a00d7d34e43843f91db809d9d04",
            "879ae49fb6954fba836162d750f07bee",
            "4eb00220f60c4df094acdf3f3a992d1f",
            "71a393400a314ce18bd138818ae68f98",
            "56297632fa434b299bb13750f91b3281",
            "39377425b90144918d3ac48c392c7206",
            "cd520a360c234be7bcf31361fa4fe4f9",
            "f239cae8478f48bca7121f77680f877f",
            "dccddcd947034ef3a13baf247e746808",
            "71639b9963d54973b871a19d1b66092e",
            "1e514c9404214f66a3decced78bf3256",
            "12a8a6292ee64b98b16a651e89cd725d",
            "2211fc336c9f4b708885a88b1cb27427",
            "1651804b3e014ef390e7e9b3c9f69d9c",
            "1daf9ea672d74486be6a1c0da5a1fc2d",
            "9af117e900ce471cb4c90000d83d6be7",
            "50bbc577502e402590649c07b8d82c34",
            "95f302f464b24e8a872fb333ca88f44e",
            "42e317c2618f455da68e4ad851bc93fe",
            "f9231945424b493bb644411c2c2653b7",
            "d3f7d55f201641afa5a5366ed1d88078",
            "ab0bd7488b21440d9f26fa260432189c"
          ]
        },
        "id": "y16zRsRGL81R",
        "outputId": "6ee00b9b-9dcd-46a1-bfb5-9a9f1df7597f"
      },
      "execution_count": null,
      "outputs": [
        {
          "output_type": "display_data",
          "data": {
            "text/plain": [
              "HTML(value='<strong style=\"font-size: 16px;\">Finalize the Location of the Coordinates</strong>')"
            ],
            "application/vnd.jupyter.widget-view+json": {
              "version_major": 2,
              "version_minor": 0,
              "model_id": "bde7faf57b6a447f9ae8b70191fe8ee3"
            }
          },
          "metadata": {
            "application/vnd.jupyter.widget-view+json": {
              "colab": {
                "custom_widget_manager": {
                  "url": "https://ssl.gstatic.com/colaboratory-static/widgets/colab-cdn-widget-manager/2b70e893a8ba7c0f/manager.min.js"
                }
              }
            }
          }
        },
        {
          "output_type": "display_data",
          "data": {
            "text/plain": [
              "HTML(value='Click \"Capture Coordinates\" to fixate')"
            ],
            "application/vnd.jupyter.widget-view+json": {
              "version_major": 2,
              "version_minor": 0,
              "model_id": "e69772a35d284e29a6efc785c4a74def"
            }
          },
          "metadata": {
            "application/vnd.jupyter.widget-view+json": {
              "colab": {
                "custom_widget_manager": {
                  "url": "https://ssl.gstatic.com/colaboratory-static/widgets/colab-cdn-widget-manager/2b70e893a8ba7c0f/manager.min.js"
                }
              }
            }
          }
        },
        {
          "output_type": "display_data",
          "data": {
            "text/plain": [
              "VBox(children=(Map(center=[-3.994521, -79.211542], controls=(ZoomControl(options=['position', 'zoom_in_text', …"
            ],
            "application/vnd.jupyter.widget-view+json": {
              "version_major": 2,
              "version_minor": 0,
              "model_id": "42e317c2618f455da68e4ad851bc93fe"
            }
          },
          "metadata": {
            "application/vnd.jupyter.widget-view+json": {
              "colab": {
                "custom_widget_manager": {
                  "url": "https://ssl.gstatic.com/colaboratory-static/widgets/colab-cdn-widget-manager/2b70e893a8ba7c0f/manager.min.js"
                }
              }
            }
          }
        }
      ]
    },
    {
      "cell_type": "markdown",
      "source": [
        "Python Dictionary: Stores the coordinates in a Python dictionary, which can be accessed as coordinates['A'], coordinates['B'], and coordinates['C'] respectively."
      ],
      "metadata": {
        "id": "hN-Cp_hebXt9"
      }
    },
    {
      "cell_type": "code",
      "source": [
        "# Make a dictionary of the geographic coordinates\n",
        "coordinates = {\n",
        "    'a': (a[0], a[1]),  # Hospital in Loja, Ecuador\n",
        "    'b': (b[0], b[1]),  # Catamayo in Ecuador\n",
        "    'c': (c[0], c[1])   # San Pedro la Bendita\n",
        "}\n",
        "\n",
        "origin = coordinates['a']\n",
        "\n",
        "# Function to convert geographic coordinates (lat, lon) to kilometers relative to an origin\n",
        "def geo_to_km(origin, point):\n",
        "    R = 6371.0  # Radius of the Earth in kilometers\n",
        "    lat1, lon1 = origin\n",
        "    lat2, lon2 = point\n",
        "\n",
        "    delta_lat = math.radians(lat2 - lat1)\n",
        "    delta_lon = math.radians(lon2 - lon1)\n",
        "    a = (math.sin(delta_lat/2))**2 + math.cos(math.radians(lat1)) * math.cos(math.radians(lat2)) * (math.sin(delta_lon/2))**2\n",
        "    c = 2 * math.atan2(math.sqrt(a), math.sqrt(1-a))\n",
        "    distance = R * c\n",
        "\n",
        "    # Calculate the bearing angle\n",
        "    x = math.sin(delta_lon) * math.cos(math.radians(lat2))\n",
        "    y = math.cos(math.radians(lat1)) * math.sin(math.radians(lat2)) - math.sin(math.radians(lat1)) * math.cos(math.radians(lat2)) * math.cos(delta_lon)\n",
        "    bearing = math.atan2(x, y)\n",
        "\n",
        "    # Convert bearing and distance to kilometers\n",
        "    km_x = distance * math.sin(bearing)\n",
        "    km_y = distance * math.cos(bearing)\n",
        "\n",
        "    return km_x, km_y\n",
        "\n",
        "# Calculate distances\n",
        "def calculate_distance(point1, point2):\n",
        "    # Radius of the Earth in kilometers\n",
        "    R = 6371.0\n",
        "\n",
        "    # Coordinates in decimal degrees\n",
        "    lat1, lon1 = point1\n",
        "    lat2, lon2 = point2\n",
        "\n",
        "    # Convert decimal degrees to radians\n",
        "    phi1, phi2 = math.radians(lat1), math.radians(lat2)\n",
        "    delta_phi = math.radians(lat2 - lat1)\n",
        "    delta_lambda = math.radians(lon2 - lon1)\n",
        "\n",
        "    # Haversine formula\n",
        "    a = math.sin(delta_phi / 2)**2 + math.cos(phi1) * math.cos(phi2) * math.sin(delta_lambda / 2)**2\n",
        "    c = 2 * math.atan2(math.sqrt(a), math.sqrt(1 - a))\n",
        "\n",
        "    # Distance in kilometers\n",
        "    distance = R * c\n",
        "    return distance\n",
        "\n",
        "# Plotting setup\n",
        "plt.figure(figsize=(8, 6))\n",
        "origin = coordinates['a']\n",
        "km_coordinates = {label: geo_to_km(origin, coord) if label != 'a' else (0, 0) for label, coord in coordinates.items()}\n",
        "x_coords, y_coords = zip(*km_coordinates.values())\n",
        "labels = km_coordinates.keys()\n",
        "\n",
        "# Plot each point and annotate\n",
        "for label, (x, y) in km_coordinates.items():\n",
        "    plt.scatter(x, y, color='blue', s=100)  # Blue dots, size 100\n",
        "    plt.text(x, y, f' {label}', fontsize=12, ha='right')\n",
        "\n",
        "# Draw lines between points and annotate distances\n",
        "pairs = [('a', 'b'), ('b', 'c'), ('c', 'a')]\n",
        "for p1, p2 in pairs:\n",
        "    x1, y1 = km_coordinates[p1]\n",
        "    x2, y2 = km_coordinates[p2]\n",
        "    plt.plot([x1, x2], [y1, y2], 'k-')  # black line between points\n",
        "\n",
        "    # Calculate midpoint for placing the distance text\n",
        "    mid_x, mid_y = (x1 + x2) / 2, (y1 + y2) / 2\n",
        "    # Calculate distance\n",
        "    distance = calculate_distance(coordinates[p1], coordinates[p2])\n",
        "    plt.annotate(f'{distance:.2f} km', xy=(mid_x, mid_y), textcoords=\"offset points\", xytext=(0,10), ha='center')\n",
        "\n",
        "# Set additional plot attributes\n",
        "plt.grid(True)\n",
        "plt.title('Map Visualization of Points a, b, c with Distances in km')\n",
        "plt.xlabel('Kilometers East of Origin')\n",
        "plt.ylabel('Kilometers North of Origin')\n",
        "plt.show()\n",
        "\n",
        "\n",
        "distance_ab = calculate_distance(coordinates['a'], coordinates['b'])\n",
        "distance_bc = calculate_distance(coordinates['b'], coordinates['c'])\n",
        "distance_ca = calculate_distance(coordinates['c'], coordinates['a'])\n",
        "\n",
        "# Print results\n",
        "print(f\"Distance between a and b: {distance_ab:.2f} km\")\n",
        "print(f\"Distance between b and c: {distance_bc:.2f} km\")\n",
        "print(f\"Distance between c and a: {distance_ca:.2f} km\")"
      ],
      "metadata": {
        "id": "itfnwtXAIzLh",
        "colab": {
          "base_uri": "https://localhost:8080/",
          "height": 618
        },
        "outputId": "2e54e7e5-3aef-42a6-bc6b-4a7d06a52ab0"
      },
      "execution_count": null,
      "outputs": [
        {
          "output_type": "display_data",
          "data": {
            "text/plain": [
              "<Figure size 800x600 with 1 Axes>"
            ],
            "image/png": "[encoded data removed]"
          },
          "metadata": {}
        },
        {
          "output_type": "stream",
          "name": "stdout",
          "text": [
            "Distance between a and b: 16.23 km\n",
            "Distance between b and c: 9.84 km\n",
            "Distance between c and a: 25.30 km\n"
          ]
        }
      ]
    },
    {
      "cell_type": "markdown",
      "source": [
        "Time to destination, x: Assuming, a,b, c are combined for total distance and\n",
        "d is the speed.\n",
        "Total fuel used, z: Assuming constant fuel efficiency, say g miles per gallon,\n",
        "Price per person, y: operational cost per person"
      ],
      "metadata": {
        "id": "rGmB9MDEJ7Pu"
      }
    },
    {
      "cell_type": "code",
      "source": [
        "# Initialize variables\n",
        "a, b, c = distance_ab, distance_bc, distance_ca  # distances in miles\n",
        "d = 60  # speed in mph\n",
        "e = 3.5  # fuel price per gallon\n",
        "f = 4   # number of persons\n",
        "g = 30  # fuel efficiency in mpg\n",
        "\n",
        "# Function to calculate outputs\n",
        "def calculate(a, b, c, d, e, f):\n",
        "    total_distance = a + b + c\n",
        "    x = total_distance / d  # time to destination\n",
        "    z = total_distance / g  # total fuel used\n",
        "    y = (z * e) / f  # price per person\n",
        "    return x, y, z\n",
        "\n",
        "# Function to handle slider changes\n",
        "def update_plot(a, b, c, d, e, f):\n",
        "    x, y, z = calculate(a, b, c, d, e, f)\n",
        "    print(f\"\")\n",
        "    print(f\"Based on the circumstances above\")\n",
        "    print(f\"Time to destination (hours): {x:.2f}\")\n",
        "    print(f\"Price per person: ${y:.2f}\")\n",
        "    print(f\"Total fuel used (gallons): {z:.2f}\")\n",
        "\n",
        "\n",
        "\n",
        "# Custom layout to increase the left margin\n",
        "slider_layout = Layout(width='500px', margin='10px 0px 0px 50px')  # Adjust the margin as needed\n",
        "\n",
        "# Sliders with custom layout\n",
        "a_slider = IntSlider(min=0, max=500, step=10, value=distance_ab, description='Distance A to B (km):', layout=slider_layout)\n",
        "b_slider = IntSlider(min=0, max=500, step=10, value=distance_bc, description='Distance B to C (km):', layout=slider_layout)\n",
        "c_slider = IntSlider(min=0, max=500, step=10, value=distance_ca, description='Distance C to A (km):', layout=slider_layout)\n",
        "d_slider = IntSlider(min=0, max=120, step=5, value=60, description='Speed:', layout=slider_layout)\n",
        "e_slider = FloatSlider(min=1.0, max=5.0, step=0.1, value=3.5, description='Fuel Price:', layout=slider_layout)\n",
        "f_slider = IntSlider(min=1, max=10, step=1, value=4, description='No. of Persons:', layout=slider_layout)\n",
        "\n",
        "display(HTML('<strong style=\"font-size: 16px;\">Calculations based on the given circumstances and coordinates:</strong>'))\n",
        "display(HTML('Play with the sliders (Speed, Fuel Price, and No. of Person) to see changes'))\n",
        "\n",
        "# Widget interaction\n",
        "ui = widgets.VBox([a_slider, b_slider, c_slider, d_slider, e_slider, f_slider])\n",
        "out = widgets.interactive_output(update_plot, {'a': a_slider, 'b': b_slider, 'c': c_slider, 'd': d_slider, 'e': e_slider, 'f': f_slider})\n",
        "display(ui, out)"
      ],
      "metadata": {
        "id": "Ch9kQAOGI1kp",
        "colab": {
          "base_uri": "https://localhost:8080/",
          "height": 397,
          "referenced_widgets": [
            "4c75b4ca684c4f44b9426e8fe541fd54",
            "d0c4d9a1b1734f53a00436f3b23645c7",
            "6b6156a0198f4b10b96d900210ac56d2",
            "f1b00d43e8714d90baeba3521ac31289",
            "eed2de2a0b7b45bfa13a0b2eaa5d5ab0",
            "b19bee720f804cfbba5fedee106a5ef4",
            "0bddd5472ae44c9993ebe2f82c13c104",
            "82f1c712ab1344458de876b633fc1076",
            "316ce8c3e50a4b40b535668202507933",
            "cca71fb08b55437db8a2d77b26afd0ca",
            "3af07805f6c247bebc75d152244d1377",
            "3240ec945b014be79362194d2cd459eb",
            "2f26e5f2734e442794ee51ca17339837",
            "e1c5314399b14af5828deb7107b935b3",
            "8b4f06cc041141f98bccac377e026818",
            "8f9d64bd4c2b4bb7b664755c9e056bd1",
            "37205bce4ec640529e893c9c783666ea",
            "939f53da79244458b9634e2ab68a8f36",
            "d1593b623fdd4e7cbc25f78bf31934d3",
            "7818106ad3814ed5a521e3df5eb0e0e8",
            "c7d808cd298148b7b70a0392fac9bbb0",
            "cd56266d057f47c68146a2718ad74d1a",
            "2f0dd74e50204e9aa1ea67d9a4514087"
          ]
        },
        "outputId": "18473603-375d-494e-ed99-cd9d8f756623"
      },
      "execution_count": null,
      "outputs": [
        {
          "output_type": "display_data",
          "data": {
            "text/plain": [
              "HTML(value='<strong style=\"font-size: 16px;\">Calculations based on the given circumstances and coordinates:</s…"
            ],
            "application/vnd.jupyter.widget-view+json": {
              "version_major": 2,
              "version_minor": 0,
              "model_id": "4c75b4ca684c4f44b9426e8fe541fd54"
            }
          },
          "metadata": {
            "application/vnd.jupyter.widget-view+json": {
              "colab": {
                "custom_widget_manager": {
                  "url": "https://ssl.gstatic.com/colaboratory-static/widgets/colab-cdn-widget-manager/2b70e893a8ba7c0f/manager.min.js"
                }
              }
            }
          }
        },
        {
          "output_type": "display_data",
          "data": {
            "text/plain": [
              "HTML(value='Play with the sliders (Speed, Fuel Price, and No. of Person) to see changes')"
            ],
            "application/vnd.jupyter.widget-view+json": {
              "version_major": 2,
              "version_minor": 0,
              "model_id": "f1b00d43e8714d90baeba3521ac31289"
            }
          },
          "metadata": {
            "application/vnd.jupyter.widget-view+json": {
              "colab": {
                "custom_widget_manager": {
                  "url": "https://ssl.gstatic.com/colaboratory-static/widgets/colab-cdn-widget-manager/2b70e893a8ba7c0f/manager.min.js"
                }
              }
            }
          }
        },
        {
          "output_type": "display_data",
          "data": {
            "text/plain": [
              "VBox(children=(IntSlider(value=16, description='Distance A to B (km):', layout=Layout(margin='10px 0px 0px 50p…"
            ],
            "application/vnd.jupyter.widget-view+json": {
              "version_major": 2,
              "version_minor": 0,
              "model_id": "0bddd5472ae44c9993ebe2f82c13c104"
            }
          },
          "metadata": {
            "application/vnd.jupyter.widget-view+json": {
              "colab": {
                "custom_widget_manager": {
                  "url": "https://ssl.gstatic.com/colaboratory-static/widgets/colab-cdn-widget-manager/2b70e893a8ba7c0f/manager.min.js"
                }
              }
            }
          }
        },
        {
          "output_type": "display_data",
          "data": {
            "text/plain": [
              "Output()"
            ],
            "application/vnd.jupyter.widget-view+json": {
              "version_major": 2,
              "version_minor": 0,
              "model_id": "cd56266d057f47c68146a2718ad74d1a"
            }
          },
          "metadata": {
            "application/vnd.jupyter.widget-view+json": {
              "colab": {
                "custom_widget_manager": {
                  "url": "https://ssl.gstatic.com/colaboratory-static/widgets/colab-cdn-widget-manager/2b70e893a8ba7c0f/manager.min.js"
                }
              }
            }
          }
        }
      ]
    },
    {
      "cell_type": "code",
      "source": [],
      "metadata": {
        "id": "ZBlMnBvSJs4G"
      },
      "execution_count": null,
      "outputs": []
    }
  ]
}